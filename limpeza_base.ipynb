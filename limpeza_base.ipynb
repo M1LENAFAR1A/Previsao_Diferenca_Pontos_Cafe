{
 "cells": [
  {
   "cell_type": "code",
   "execution_count": 1,
   "metadata": {},
   "outputs": [],
   "source": [
    "import pandas as pd\n",
    "\n",
    "# Função para ler as bases \"b\" e \"c\" com delimitadores personalizados\n",
    "def read_custom_csv(filename, date_column, separator):\n",
    "    return pd.read_csv(filename, parse_dates=[date_column], delimiter=separator)\n",
    "\n",
    "base_a = read_custom_csv('C:/Users/milen/OneDrive/Documentos/TCC/Bases/preco_cafe.csv', 'Data', ',')\n",
    "# Ler a base \"b\"\n",
    "base_b = read_custom_csv('C:/Users/milen/OneDrive/Documentos/TCC/Bases/clima_patrocinio.csv', 'Data', ',')\n",
    "# Ler a base \"c\" sem a especificação do delimitador\n",
    "base_c = read_custom_csv('C:/Users/milen/OneDrive/Documentos/TCC/Bases/ibovespa.csv', 'Data', ',')\n"
   ]
  },
  {
   "cell_type": "code",
   "execution_count": 2,
   "metadata": {},
   "outputs": [],
   "source": [
    "# Converter a coluna de datas em datetime\n",
    "base_a['Data'] = pd.to_datetime(base_a['Data'])\n",
    "base_b['Data'] = pd.to_datetime(base_b['Data'])\n",
    "base_c['Data'] = pd.to_datetime(base_c['Data'])\n",
    "\n",
    "# Criar um conjunto de datas da base \"a\" para usar como referência\n",
    "datas_base_a = set(base_a['Data'])\n",
    "\n",
    "# Filtre as bases \"b\" e \"c\" para manter apenas as linhas com datas que existem na base \"a\"\n",
    "base_b = base_b[base_b['Data'].isin(datas_base_a)]\n",
    "base_c = base_c[base_c['Data'].isin(datas_base_a)]\n"
   ]
  },
  {
   "cell_type": "code",
   "execution_count": 3,
   "metadata": {},
   "outputs": [],
   "source": [
    "import pandas as pd\n",
    "\n",
    "# Suponha que a base \"c\" comece em 2006-08-23 (substitua a data real)\n",
    "data_inicio_base_b = pd.to_datetime('2006-08-23')\n",
    "\n",
    "# Converter a coluna de datas em datetime\n",
    "base_a['Data'] = pd.to_datetime(base_a['Data'])\n",
    "base_b['Data'] = pd.to_datetime(base_b['Data'])\n",
    "base_c['Data'] = pd.to_datetime(base_c['Data'])\n",
    "\n",
    "# Filtre a base \"a\" para manter apenas as datas a partir da data de início da base \"c\"\n",
    "base_a = base_a[base_a['Data'] >= data_inicio_base_b]\n",
    "\n",
    "# Filtre a base \"b\" para manter apenas as datas a partir da data de início da base \"c\"\n",
    "base_c = base_c[base_c['Data'] >= data_inicio_base_b]\n"
   ]
  },
  {
   "cell_type": "code",
   "execution_count": 4,
   "metadata": {},
   "outputs": [],
   "source": [
    "# Exportar base \"a\" para CSV\n",
    "base_a.to_csv('C:/Users/milen/OneDrive/Documentos/TCC/Bases/preco_cafe_preprocessada.csv', index=False)\n",
    "\n",
    "# Exportar base \"b\" para CSV\n",
    "base_b.to_csv('C:/Users/milen/OneDrive/Documentos/TCC/Bases/clima_patrocinio_preprocessada.csv', index=False)\n",
    "\n",
    "# Exportar base \"c\" para CSV\n",
    "base_c.to_csv('C:/Users/milen/OneDrive/Documentos/TCC/Bases/ibovespa_preprocessada.csv', index=False)\n"
   ]
  }
 ],
 "metadata": {
  "kernelspec": {
   "display_name": "Python 3",
   "language": "python",
   "name": "python3"
  },
  "language_info": {
   "codemirror_mode": {
    "name": "ipython",
    "version": 3
   },
   "file_extension": ".py",
   "mimetype": "text/x-python",
   "name": "python",
   "nbconvert_exporter": "python",
   "pygments_lexer": "ipython3",
   "version": "3.10.6"
  }
 },
 "nbformat": 4,
 "nbformat_minor": 2
}
