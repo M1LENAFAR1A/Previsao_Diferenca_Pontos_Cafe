{
 "cells": [
  {
   "cell_type": "code",
   "execution_count": 1,
   "metadata": {},
   "outputs": [],
   "source": [
    "\n",
    "import pandas as pd\n",
    "\n",
    "# Carregue seu arquivo CSV\n",
    "df = pd.read_csv('C:/Users/milen/OneDrive/Documentos/TCC/Bases/arquivomesclado.csv')\n",
    "\n",
    "# Preencha os valores NaN utilizando o método 'fillna' com 'ffill' e 'bfill'\n",
    "df_filled = df.fillna(method='ffill').fillna(method='bfill')\n",
    "\n",
    "# Para as linhas onde 'ffill' e 'bfill' não funcionam (como no começo e no final do DataFrame),\n",
    "# você pode optar por preencher com a média global da coluna, se isso fizer sentido para seus dados\n",
    "df_filled = df_filled.apply(lambda x: x.fillna(x.mean()) if x.dtype.kind in 'biufc' else x)\n",
    "\n",
    "# Salve o DataFrame preenchido em um novo arquivo CSV\n",
    "df_filled.to_csv('C:/Users/milen/OneDrive/Documentos/TCC/Bases/base_completa.csv', index=False)\n",
    "\n"
   ]
  },
  {
   "cell_type": "code",
   "execution_count": null,
   "metadata": {},
   "outputs": [],
   "source": [
    "MONTE VERDE 1\n",
    "VARGINHA 2\n",
    "CALDAS 3\n",
    "PATROCINIO 4\n",
    "\n"
   ]
  },
  {
   "cell_type": "code",
   "execution_count": 3,
   "metadata": {},
   "outputs": [],
   "source": [
    "import pandas as pd\n",
    "\n",
    "# Carregar os conjuntos de dados\n",
    "df_dolar = pd.read_csv('C:/Users/milen/OneDrive/Documentos/TCC/Bases/dolar.csv')\n",
    "df_ibovespa = pd.read_csv('C:/Users/milen/OneDrive/Documentos/TCC/Bases/ibovespa.csv')\n",
    "df_price_coffee = pd.read_csv('C:/Users/milen/OneDrive/Documentos/TCC/Bases/price_coffee.csv')\n",
    "df_selic = pd.read_csv('C:/Users/milen/OneDrive/Documentos/TCC/Bases/selic.csv')\n",
    "df_weather = pd.read_csv('C:/Users/milen/OneDrive/Documentos/TCC/Bases/weather.csv')\n",
    "\n",
    "# Conversão das colunas de data para datetime\n",
    "dfs = [df_dolar, df_ibovespa, df_price_coffee, df_selic, df_weather]\n",
    "for df in dfs:\n",
    "    df['Date'] = pd.to_datetime(df['Date'])\n",
    "\n",
    "# Sincronizar as datas com o conjunto price_coffee\n",
    "dfs_filtered = [df[df['Date'].isin(df_price_coffee['Date'])] for df in dfs]\n",
    "\n",
    "# Mesclar os conjuntos de dados\n",
    "df_merged = df_price_coffee\n",
    "for df in dfs_filtered:\n",
    "    df_merged = df_merged.merge(df, on='Date', how='left')\n",
    "\n",
    "# Salvar o DataFrame mesclado em um novo arquivo CSV\n",
    "df_merged.to_csv(('C:/Users/milen/OneDrive/Documentos/TCC/Bases/arquivomesclado.csv'), index=False)\n"
   ]
  }
 ],
 "metadata": {
  "kernelspec": {
   "display_name": "Python 3",
   "language": "python",
   "name": "python3"
  },
  "language_info": {
   "codemirror_mode": {
    "name": "ipython",
    "version": 3
   },
   "file_extension": ".py",
   "mimetype": "text/x-python",
   "name": "python",
   "nbconvert_exporter": "python",
   "pygments_lexer": "ipython3",
   "version": "3.10.6"
  }
 },
 "nbformat": 4,
 "nbformat_minor": 2
}
