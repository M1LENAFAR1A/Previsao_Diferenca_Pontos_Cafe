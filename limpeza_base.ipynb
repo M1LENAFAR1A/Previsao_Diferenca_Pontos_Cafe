{
 "cells": [
  {
   "cell_type": "code",
   "execution_count": 1,
   "metadata": {},
   "outputs": [],
   "source": [
    "import pandas as pd\n",
    "\n",
    "df = pd.read_csv('C:/Users/milen/OneDrive/Documentos/TCC/Bases/arquivomesclado.csv')\n",
    "\n",
    "df_filled = df.fillna(method='ffill').fillna(method='bfill')\n",
    "\n",
    "df_filled = df_filled.apply(lambda x: x.fillna(x.mean()) if x.dtype.kind in 'biufc' else x)\n",
    "\n",
    "df_filled.to_csv('C:/Users/milen/OneDrive/Documentos/TCC/Bases/base_completa.csv', index=False)\n",
    "\n"
   ]
  },
  {
   "cell_type": "code",
   "execution_count": 3,
   "metadata": {},
   "outputs": [],
   "source": [
    "import pandas as pd\n",
    "\n",
    "df_dolar = pd.read_csv('C:/Users/milen/OneDrive/Documentos/TCC/Bases/dolar.csv')\n",
    "df_ibovespa = pd.read_csv('C:/Users/milen/OneDrive/Documentos/TCC/Bases/ibovespa.csv')\n",
    "df_price_coffee = pd.read_csv('C:/Users/milen/OneDrive/Documentos/TCC/Bases/price_coffee.csv')\n",
    "df_selic = pd.read_csv('C:/Users/milen/OneDrive/Documentos/TCC/Bases/selic.csv')\n",
    "df_weather = pd.read_csv('C:/Users/milen/OneDrive/Documentos/TCC/Bases/weather.csv')\n",
    "\n",
    "dfs = [df_dolar, df_ibovespa, df_price_coffee, df_selic, df_weather]\n",
    "for df in dfs:\n",
    "    df['Date'] = pd.to_datetime(df['Date'])\n",
    "\n",
    "dfs_filtered = [df[df['Date'].isin(df_price_coffee['Date'])] for df in dfs]\n",
    "\n",
    "df_merged = df_price_coffee\n",
    "for df in dfs_filtered:\n",
    "    df_merged = df_merged.merge(df, on='Date', how='left')\n",
    "\n",
    "df_merged.to_csv(('C:/Users/milen/OneDrive/Documentos/TCC/Bases/arquivomesclado.csv'), index=False)\n"
   ]
  },
  {
   "cell_type": "code",
   "execution_count": 6,
   "metadata": {},
   "outputs": [
    {
     "name": "stdout",
     "output_type": "stream",
     "text": [
      "MSE: 0.006944562328766365\n",
      "R2 Score: 0.9999934676028719\n",
      "          Date  Real Value  Forecast Value\n",
      "0   2022-05-30      268.04        268.2440\n",
      "1   2022-05-31      267.96        268.2440\n",
      "2   2022-06-01      275.51        275.5040\n",
      "3   2022-06-02      277.12        276.9530\n",
      "4   2022-06-03      270.35        270.3637\n",
      "..         ...         ...             ...\n",
      "360 2023-11-06      178.19        178.1976\n",
      "361 2023-11-07      178.62        178.6228\n",
      "362 2023-11-08      181.48        181.4768\n",
      "363 2023-11-09      181.93        181.9296\n",
      "364 2023-11-10      180.91        180.8922\n",
      "\n",
      "[365 rows x 3 columns]\n"
     ]
    }
   ],
   "source": [
    "from sklearn.metrics import mean_squared_error, r2_score\n",
    "from sklearn.model_selection import train_test_split\n",
    "from sklearn.ensemble import RandomForestRegressor\n",
    "from scipy import stats\n",
    "import pandas as pd\n",
    "import numpy as np\n",
    "\n",
    "file_path = 'C:/Users/milen/OneDrive/Documentos/TCC/new/final.csv'\n",
    "data = pd.read_csv(file_path)\n",
    "\n",
    "data['Data'] = pd.to_datetime(data['Data'])\n",
    "data['Preco_Dolar'] = data['Preco_Dolar'].str.replace(',', '.').astype(float)\n",
    "\n",
    "z_scores = np.abs(stats.zscore(data['Preco_Dolar']))\n",
    "threshold = 3\n",
    "data['Preco_Dolar_No_Outliers'] = data['Preco_Dolar'].where(z_scores < threshold, np.nan)\n",
    "\n",
    "data['Preco_Dolar_No_Outliers'] = data['Preco_Dolar_No_Outliers'].interpolate()\n",
    "\n",
    "X = data[['Preco_Dolar_No_Outliers']]  \n",
    "y = data['Preco_Dolar'] \n",
    "\n",
    "X_train, X_test, y_train, y_test = train_test_split(X, y, test_size=365, shuffle=False)\n",
    "\n",
    "rf_model = RandomForestRegressor(n_estimators=100, random_state=0)\n",
    "rf_model.fit(X_train, y_train)\n",
    "\n",
    "rf_forecast = rf_model.predict(X_test)\n",
    "\n",
    "mse_rf = mean_squared_error(y_test, rf_forecast)\n",
    "r2_rf = r2_score(y_test, rf_forecast)\n",
    "\n",
    "print(\"MSE:\", mse_rf)\n",
    "print(\"R2 Score:\", r2_rf)\n",
    "\n",
    "result_data_rf = pd.DataFrame({\n",
    "    'Date': data['Data'].iloc[-365:],\n",
    "    'Real Value': y_test.values,\n",
    "    'Forecast Value': rf_forecast\n",
    "})\n",
    "\n",
    "print(result_data_rf.reset_index(drop=True))\n"
   ]
  }
 ],
 "metadata": {
  "kernelspec": {
   "display_name": "Python 3",
   "language": "python",
   "name": "python3"
  },
  "language_info": {
   "codemirror_mode": {
    "name": "ipython",
    "version": 3
   },
   "file_extension": ".py",
   "mimetype": "text/x-python",
   "name": "python",
   "nbconvert_exporter": "python",
   "pygments_lexer": "ipython3",
   "version": "3.10.6"
  }
 },
 "nbformat": 4,
 "nbformat_minor": 2
}
