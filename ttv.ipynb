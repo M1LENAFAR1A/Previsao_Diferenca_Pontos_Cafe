{
 "cells": [
  {
   "cell_type": "code",
   "execution_count": 3,
   "metadata": {},
   "outputs": [
    {
     "name": "stdout",
     "output_type": "stream",
     "text": [
      "   Actual  Predicted       Data\n",
      "0  122.59   119.5823 2018-06-08\n",
      "1  121.29   119.5823 2018-06-11\n",
      "2  122.49   119.5823 2018-06-12\n",
      "3  121.02   119.5823 2018-06-13\n",
      "4  118.76   119.5823 2018-06-14\n"
     ]
    }
   ],
   "source": [
    "\n",
    "import pandas as pd\n",
    "from sklearn.ensemble import RandomForestRegressor\n",
    "from sklearn.metrics import mean_squared_error, r2_score\n",
    "from sklearn.model_selection import train_test_split\n",
    "from sklearn.preprocessing import StandardScaler\n",
    "\n",
    "# Carregar os dados\n",
    "cleaned_eur_brl_file_path = \"C:/Users/milen/OneDrive/Documentos/TCC/new/Merged_Final_Combined_EUR_BRL.csv\"\n",
    "cleaned_eur_brl_df = pd.read_csv(cleaned_eur_brl_file_path)\n",
    "\n",
    "# Converter 'Data' para datetime e ordenar o dataframe por data\n",
    "cleaned_eur_brl_df['Data'] = pd.to_datetime(cleaned_eur_brl_df['Data'])\n",
    "cleaned_eur_brl_df.sort_values('Data', inplace=True)\n",
    "\n",
    "# Corrigir o formato de 'Preco_Dolar', convertendo de string para float\n",
    "cleaned_eur_brl_df['Preco_Dolar'] = cleaned_eur_brl_df['Preco_Dolar'].str.replace(',', '.').astype(float)\n",
    "\n",
    "# Padronizar a coluna 'Preco_Dolar'\n",
    "scaler = StandardScaler()\n",
    "cleaned_eur_brl_df['Preco_Dolar_Scaled'] = scaler.fit_transform(cleaned_eur_brl_df[['Preco_Dolar']])\n",
    "\n",
    "# Dividir os dados em treino e teste\n",
    "X = cleaned_eur_brl_df.index.values.reshape(-1, 1)  # Usando o índice como recurso\n",
    "y = cleaned_eur_brl_df['Preco_Dolar_Scaled'].values\n",
    "X_train, X_test, y_train, y_test = train_test_split(X, y, test_size=0.2, random_state=0, shuffle=False)\n",
    "\n",
    "# Padronizar os recursos de treino e teste\n",
    "scaler_train = StandardScaler()\n",
    "X_train_scaled = scaler_train.fit_transform(X_train)\n",
    "X_test_scaled = scaler_train.transform(X_test)\n",
    "\n",
    "# Criar e treinar o modelo Random Forest\n",
    "rf_model = RandomForestRegressor(n_estimators=100, random_state=0)\n",
    "rf_model.fit(X_train_scaled, y_train)\n",
    "\n",
    "# Fazer previsões no conjunto de teste\n",
    "y_test_pred = rf_model.predict(X_test_scaled)\n",
    "\n",
    "# Reverter a padronização para exibir os valores em sua escala original\n",
    "y_test_pred_reversed = scaler.inverse_transform(y_test_pred.reshape(-1, 1)).flatten()\n",
    "y_test_reversed = scaler.inverse_transform(y_test.reshape(-1, 1)).flatten()\n",
    "\n",
    "# Adicionar a coluna 'Data' ao DataFrame de previsões\n",
    "eur_brl_test_prediction_df = pd.DataFrame({\n",
    "    'Actual': y_test_reversed,\n",
    "    'Predicted': y_test_pred_reversed,\n",
    "    'Data': cleaned_eur_brl_df['Data'].values[-len(y_test):]\n",
    "})\n",
    "\n",
    "# Exibir as primeiras previsões e os valores reais\n",
    "print(eur_brl_test_prediction_df.head())\n",
    "\n",
    "#adicionar com e sem clima\n",
    "\n"
   ]
  }
 ],
 "metadata": {
  "kernelspec": {
   "display_name": "Python 3",
   "language": "python",
   "name": "python3"
  },
  "language_info": {
   "codemirror_mode": {
    "name": "ipython",
    "version": 3
   },
   "file_extension": ".py",
   "mimetype": "text/x-python",
   "name": "python",
   "nbconvert_exporter": "python",
   "pygments_lexer": "ipython3",
   "version": "3.10.6"
  }
 },
 "nbformat": 4,
 "nbformat_minor": 2
}
